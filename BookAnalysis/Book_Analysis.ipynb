{
 "cells": [
  {
   "cell_type": "code",
   "execution_count": 27,
   "id": "572d72fa-7ae8-443c-b5f6-4955f0a07cec",
   "metadata": {},
   "outputs": [],
   "source": [
    "with open('miracle_in_the_andes.txt', 'r', encoding='utf-8',) as file:\n",
    "    book = file.read()"
   ]
  },
  {
   "cell_type": "code",
   "execution_count": 28,
   "id": "563c1f2f-6f71-418d-a496-8e719af950ff",
   "metadata": {},
   "outputs": [
    {
     "data": {
      "text/plain": [
       "str"
      ]
     },
     "execution_count": 28,
     "metadata": {},
     "output_type": "execute_result"
    }
   ],
   "source": [
    "type(book)"
   ]
  },
  {
   "cell_type": "markdown",
   "id": "214ff49d-0fff-4cb8-9442-427eafac45a9",
   "metadata": {},
   "source": [
    "# How many chapters?"
   ]
  },
  {
   "cell_type": "markdown",
   "id": "1396af05-00c6-4e22-bf40-6a2a5b624ea2",
   "metadata": {},
   "source": [
    "## With string methods"
   ]
  },
  {
   "cell_type": "code",
   "execution_count": 29,
   "id": "c78e50c1-01e2-408f-98ed-98fdb1acb7c4",
   "metadata": {},
   "outputs": [
    {
     "data": {
      "text/plain": [
       "12"
      ]
     },
     "execution_count": 29,
     "metadata": {},
     "output_type": "execute_result"
    }
   ],
   "source": [
    "book.count('Chapter')"
   ]
  },
  {
   "cell_type": "markdown",
   "id": "c2697cd1-00ff-41bf-841f-ab17c7e20f8c",
   "metadata": {},
   "source": [
    "## With regex"
   ]
  },
  {
   "cell_type": "code",
   "execution_count": 30,
   "id": "74caa796-aceb-4d21-83c6-1b1f4f4be681",
   "metadata": {},
   "outputs": [],
   "source": [
    "import re"
   ]
  },
  {
   "cell_type": "code",
   "execution_count": 31,
   "id": "4a34273d-d03e-4e73-88e0-92aaa28f1145",
   "metadata": {},
   "outputs": [
    {
     "data": {
      "text/plain": [
       "['Chapter 1',\n",
       " 'Chapter 2',\n",
       " 'Chapter 3',\n",
       " 'Chapter 4',\n",
       " 'Chapter 5',\n",
       " 'Chapter 6',\n",
       " 'Chapter 7',\n",
       " 'Chapter 8',\n",
       " 'Chapter 9',\n",
       " 'Chapter 10']"
      ]
     },
     "execution_count": 31,
     "metadata": {},
     "output_type": "execute_result"
    }
   ],
   "source": [
    "# looking for the pattern in the text\n",
    "# plus indicates that there could be more than one digits (to find the chapter 10)\n",
    "pattern = re.compile('Chapter [0-9]+')\n",
    "re.findall(pattern, book)"
   ]
  },
  {
   "cell_type": "code",
   "execution_count": 32,
   "id": "8afc04c9-8e20-4b39-b528-6970ccbc76aa",
   "metadata": {},
   "outputs": [
    {
     "data": {
      "text/plain": [
       "1"
      ]
     },
     "execution_count": 32,
     "metadata": {},
     "output_type": "execute_result"
    }
   ],
   "source": [
    "# plus indicates that there could be more than one digits (to find the chapter 10)\n",
    "pattern = re.compile('Chapter [a-z]+')\n",
    "findings = re.findall(pattern, book)\n",
    "len(findings)"
   ]
  },
  {
   "cell_type": "markdown",
   "id": "0b3c7294-adba-40a3-97ca-e0d325cc747d",
   "metadata": {},
   "source": [
    "# Which are the sentences where \"love\" was used?"
   ]
  },
  {
   "cell_type": "code",
   "execution_count": 46,
   "id": "3245c1bc-2618-4cc4-9fa4-b1d8adf904cb",
   "metadata": {},
   "outputs": [
    {
     "name": "stdout",
     "output_type": "stream",
     "text": [
      "Found 67 sentences with this pattern\n",
      "Example of a found sentence: As a young man, of course, I could not put these things into words, but I knew, and my teammates knew, that there was something special about the game, and under the guidance of the Christian Brothers we developed a passionate love for the sport that shaped our friendships and our lives.\n"
     ]
    }
   ],
   "source": [
    "# Zero or more letters = *\n",
    "# Extracting, finding any number of,\n",
    "# Allowing anything else (letters, numbers, commas etc.) except a period before the word 'love'\n",
    "# And allow anything before a period (the period will also be included)\n",
    "# Every sentence starts with one uppercase letter: [A-Z]{1}\n",
    "pattern = re.compile('[A-Z]{1}[^.]*[^a-zA-Z]*+love[^a-zA-Z]+[^.]*.')\n",
    "findings = re.findall(pattern, book)\n",
    "print(f\"Found {len(findings)} sentences with this pattern\")\n",
    "print(f\"Example of a found sentence: {findings[0]}\")"
   ]
  },
  {
   "cell_type": "markdown",
   "id": "350a99f3-9c69-48e7-94b4-18fea6c2174a",
   "metadata": {},
   "source": [
    "# What are the most used words?"
   ]
  },
  {
   "cell_type": "code",
   "execution_count": null,
   "id": "8674b154-e1b9-4bf0-8855-8e5ce58dfe72",
   "metadata": {},
   "outputs": [],
   "source": []
  }
 ],
 "metadata": {
  "kernelspec": {
   "display_name": "Python 3 (ipykernel)",
   "language": "python",
   "name": "python3"
  },
  "language_info": {
   "codemirror_mode": {
    "name": "ipython",
    "version": 3
   },
   "file_extension": ".py",
   "mimetype": "text/x-python",
   "name": "python",
   "nbconvert_exporter": "python",
   "pygments_lexer": "ipython3",
   "version": "3.12.6"
  }
 },
 "nbformat": 4,
 "nbformat_minor": 5
}
